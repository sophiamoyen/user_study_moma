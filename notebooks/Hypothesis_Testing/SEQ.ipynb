{
 "cells": [
  {
   "cell_type": "markdown",
   "id": "43f839fb",
   "metadata": {},
   "source": [
    "# SEQ Hypothesis testing"
   ]
  },
  {
   "cell_type": "code",
   "execution_count": 11,
   "id": "547193fe",
   "metadata": {},
   "outputs": [
    {
     "name": "stdout",
     "output_type": "stream",
     "text": [
      "                          Mixed Linear Model Regression Results\n",
      "==========================================================================================\n",
      "Model:                         MixedLM            Dependent Variable:            SEQ      \n",
      "No. Observations:              120                Method:                        REML     \n",
      "No. Groups:                    20                 Scale:                         0.9640   \n",
      "Min. group size:               6                  Log-Likelihood:                -181.1326\n",
      "Max. group size:               6                  Converged:                     Yes      \n",
      "Mean group size:               6.0                                                        \n",
      "------------------------------------------------------------------------------------------\n",
      "                                                Coef.  Std.Err.   z    P>|z| [0.025 0.975]\n",
      "------------------------------------------------------------------------------------------\n",
      "Intercept                                        4.567    0.516  8.849 0.000  3.555  5.578\n",
      "Controller[T.WBC]                                0.633    0.730  0.868 0.386 -0.797  2.064\n",
      "Modality[T.WITH-VR]                             -2.000    0.671 -2.982 0.003 -3.315 -0.685\n",
      "Controller[T.WBC]:Modality[T.WITH-VR]           -0.500    0.949 -0.527 0.598 -2.359  1.359\n",
      "Trial_Num                                        0.400    0.220  1.822 0.068 -0.030  0.830\n",
      "Controller[T.WBC]:Trial_Num                     -0.050    0.310 -0.161 0.872 -0.659  0.559\n",
      "Modality[T.WITH-VR]:Trial_Num                    0.300    0.310  0.966 0.334 -0.309  0.909\n",
      "Controller[T.WBC]:Modality[T.WITH-VR]:Trial_Num -0.050    0.439 -0.114 0.909 -0.911  0.811\n",
      "Group Var                                        0.414    0.213                           \n",
      "==========================================================================================\n",
      "\n"
     ]
    }
   ],
   "source": [
    "# Load necessary libraries\n",
    "import pandas as pd\n",
    "import statsmodels.formula.api as smf\n",
    "\n",
    "df = pd.read_csv(\"seq.csv\")\n",
    "\n",
    "# Add a unique Participant ID assuming each row is a unique participant\n",
    "df[\"Participant\"] = range(len(df))\n",
    "\n",
    "# Reshape the dataset into long format\n",
    "df_long = df.melt(id_vars=[\"Participant\", \"Controller\"], var_name=\"Trial\", value_name=\"SEQ\")\n",
    "\n",
    "# Keep only real-world trials and remove simulation trials\n",
    "df_rw_long = df_long[df_long[\"Trial\"].str.startswith(\"RW\")].copy()\n",
    "\n",
    "# Extract Modality (WITH-VR or NO-VR)\n",
    "df_rw_long[\"Modality\"] = df_rw_long[\"Trial\"].apply(lambda x: \"WITH-VR\" if \"WITH-VR\" in x else \"NO-VR\")\n",
    "\n",
    "# Extract Trial Number correctly (Only real-world trials contain numbers)\n",
    "df_rw_long[\"Trial_Num\"] = df_rw_long[\"Trial\"].str.extract(r'(\\d+)').astype(float)\n",
    "\n",
    "# Fit the Linear Mixed-Effects Model\n",
    "model = smf.mixedlm(\"SEQ ~ Controller * Modality * Trial_Num\", df_rw_long, groups=df_rw_long[\"Participant\"])\n",
    "result = model.fit()\n",
    "\n",
    "# Display the model summary\n",
    "print(result.summary())\n"
   ]
  },
  {
   "cell_type": "markdown",
   "id": "cd398356",
   "metadata": {},
   "source": [
    "## Statistical Approach\n",
    "\n",
    "To analyze the SEQ (Single Ease Question) scores collected from the user study, a Linear Mixed-Effects Model (LMM) was applied. This test was chosen due to the study's mixed design, which includes a between-subjects factor, controller type (SBC vs. WBC), where each participant used only one controller, and two within-subjects factors, modality (WITH-VR vs. NO-VR), where each participant tested both, and trial number, representing repeated measures, as each participant performed three trials per modality. LLLM includes random effects at the participant level to control for individual differences, making it more robust than repeated-measures ANOVA, which assumes sphericity. LMM can also handle hierarchy, missing data and unbalanced data better. The main effect of controller type (SBC vs. WBC) was not significant, with a p-value of 0.386. This suggests that the mean SEQ scores for SBC and WBC cannot be statistically differentiated, indicating similar post-trial interface complexity perception. However, the main effect of modality (WITH-VR vs. NO-VR) was significant, with a a p-value of 0.003, indicating that modality significantly affects SEQ scores, with WITH-VR consistently rated lower than NO-VR. Participants found tasks significantly harder in the WITH-VR condition compared to NO-VR. The main effect of trial number, showed a p-value of 0.068, suggesting a slight but not statistically significant increase in SEQ scores over trials. This indicates that there may be a learning effect, where participants improve slightly with repeated trials, finding it easier to accomplish the proposed task. Examining the interaction effects, no significant interactions were found. In conclusion, modality is the strongest factor influencing SEQ scores, with WITH-VR leading to significantly lower ratings than NO-VR. The controller type does not significantly impact SEQ scores, and while there is a slight increase in SEQ scores over trials, this effect is not statistically significant. No significant interaction effects were found, meaning that the effect of trials or controllers remains consistent across modalities.\n",
    "\n"
   ]
  },
  {
   "cell_type": "code",
   "execution_count": null,
   "id": "2345a3c3",
   "metadata": {},
   "outputs": [],
   "source": []
  }
 ],
 "metadata": {
  "kernelspec": {
   "display_name": "Python 3",
   "language": "python",
   "name": "python3"
  },
  "language_info": {
   "codemirror_mode": {
    "name": "ipython",
    "version": 3
   },
   "file_extension": ".py",
   "mimetype": "text/x-python",
   "name": "python",
   "nbconvert_exporter": "python",
   "pygments_lexer": "ipython3",
   "version": "3.8.10"
  }
 },
 "nbformat": 4,
 "nbformat_minor": 5
}
