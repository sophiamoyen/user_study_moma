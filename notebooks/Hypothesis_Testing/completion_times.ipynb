{
 "cells": [
  {
   "cell_type": "markdown",
   "id": "20173069",
   "metadata": {},
   "source": [
    "# Completion Times Hypothesis Testing"
   ]
  },
  {
   "cell_type": "code",
   "execution_count": 2,
   "id": "b871261c",
   "metadata": {},
   "outputs": [
    {
     "name": "stdout",
     "output_type": "stream",
     "text": [
      "Shapiro-Wilk Test for Normality:\n",
      "Statistic=0.9065364599227905, p-value=1.4640572771895677e-06\n",
      "\n",
      "Linear Mixed-Effects Model Results:\n",
      "                           Mixed Linear Model Regression Results\n",
      "===========================================================================================\n",
      "Model:                      MixedLM           Dependent Variable:           Q('Total Time')\n",
      "No. Observations:           107               Method:                       REML           \n",
      "No. Groups:                 20                Scale:                        7773.2166      \n",
      "Min. group size:            1                 Log-Likelihood:               -612.4254      \n",
      "Max. group size:            6                 Converged:                    Yes            \n",
      "Mean group size:            5.3                                                            \n",
      "-------------------------------------------------------------------------------------------\n",
      "                                             Coef.   Std.Err.   z    P>|z|  [0.025   0.975]\n",
      "-------------------------------------------------------------------------------------------\n",
      "Intercept                                    284.056   52.686  5.391 0.000  180.793 387.319\n",
      "Controller[T.WBC]                            169.085   75.474  2.240 0.025   21.159 317.011\n",
      "Modality[T.WITH-VR]                          141.795   63.517  2.232 0.026   17.304 266.285\n",
      "Controller[T.WBC]:Modality[T.WITH-VR]        -14.798   91.551 -0.162 0.872 -194.235 164.638\n",
      "Trial                                        -31.642   20.335 -1.556 0.120  -71.497   8.213\n",
      "Controller[T.WBC]:Trial                      -31.327   29.678 -1.056 0.291  -89.495  26.841\n",
      "Modality[T.WITH-VR]:Trial                    -31.543   29.075 -1.085 0.278  -88.528  25.442\n",
      "Controller[T.WBC]:Modality[T.WITH-VR]:Trial   59.714   42.271  1.413 0.158  -23.136 142.563\n",
      "Group Var                                   7855.020   39.797                              \n",
      "===========================================================================================\n",
      "\n"
     ]
    }
   ],
   "source": [
    "# Load necessary libraries\n",
    "import pandas as pd\n",
    "import statsmodels.formula.api as smf\n",
    "from scipy.stats import shapiro\n",
    "\n",
    "# Load the dataset\n",
    "file_path = \"completion_times.csv\"  # Replace with actual file path\n",
    "df_completion_times = pd.read_csv(file_path)\n",
    "\n",
    "# Rename CHIRON to SBC for consistency\n",
    "df_completion_times[\"Controller\"] = df_completion_times[\"Controller\"].replace(\"CHIRON\", \"SBC\")\n",
    "\n",
    "# Ensure correct data types\n",
    "df_completion_times[\"Modality\"] = df_completion_times[\"Modality\"].astype(str)\n",
    "df_completion_times[\"Controller\"] = df_completion_times[\"Controller\"].astype(str)\n",
    "df_completion_times[\"Trial\"] = df_completion_times[\"Trial\"].astype(int)\n",
    "\n",
    "# Check normality using Shapiro-Wilk test\n",
    "shapiro_test = shapiro(df_completion_times[\"Total Time\"])\n",
    "\n",
    "# Fit the Linear Mixed-Effects Model (LMM)\n",
    "lmm_model = smf.mixedlm(\n",
    "    \"Q('Total Time') ~ Controller * Modality * Trial\", \n",
    "    df_completion_times, \n",
    "    groups=df_completion_times[\"Subject\"]\n",
    ")\n",
    "\n",
    "# Fit the model\n",
    "lmm_result = lmm_model.fit()\n",
    "\n",
    "# Display results\n",
    "print(\"Shapiro-Wilk Test for Normality:\")\n",
    "print(f\"Statistic={shapiro_test.statistic}, p-value={shapiro_test.pvalue}\\n\")\n",
    "\n",
    "print(\"Linear Mixed-Effects Model Results:\")\n",
    "print(lmm_result.summary())\n"
   ]
  },
  {
   "cell_type": "markdown",
   "id": "713e5788",
   "metadata": {},
   "source": [
    "Statistical Approach and Justification\n",
    "\n",
    "During data cleaning, missing data for the task completion times were found, more specifically 7 of them. To analyze task completion times, Linear Mixed-Effects Model (LMM) was applied to account for repeated measures across trials and participants. LMM models both fixed effects (Controller, Modality, Trial Number) and random effects (Participant), allowing for a robust analysis without discarding data due to missing values. A Shapiro-Wilk test confirmed that completion times were not normally distributed (p < 0.05), further justifying the use of LMM over traditional parametric tests like ANOVA.\n",
    "\n",
    "Results from the Completion Time Analysis\n",
    "\n",
    "Vaseline was defined as being SBC without VR. Thye usage of VR HMD significantly increases completion time (+141.80 seconds, p = 0.026). WBC is significantly slower than SBC overall (+169.09 seconds, p = 0.025). Trial Number had a marginal effect on completion time (-31.64 seconds per trial, p = 0.120), indicating a possible learning effect over repeated attempts, though not statistically significant. No significant interaction effects between Controller, Modality, and Trial Number (p > 0.05). \n",
    "\n",
    "\n",
    "Conclusion\n",
    "Statistical testing confirms that both modality and controller type influence task duration, with VR significantly increasing completion time and SBC outperforming WBC in efficiency."
   ]
  },
  {
   "cell_type": "code",
   "execution_count": null,
   "id": "588cb23b",
   "metadata": {},
   "outputs": [],
   "source": []
  }
 ],
 "metadata": {
  "kernelspec": {
   "display_name": "Python 3",
   "language": "python",
   "name": "python3"
  },
  "language_info": {
   "codemirror_mode": {
    "name": "ipython",
    "version": 3
   },
   "file_extension": ".py",
   "mimetype": "text/x-python",
   "name": "python",
   "nbconvert_exporter": "python",
   "pygments_lexer": "ipython3",
   "version": "3.8.10"
  }
 },
 "nbformat": 4,
 "nbformat_minor": 5
}
