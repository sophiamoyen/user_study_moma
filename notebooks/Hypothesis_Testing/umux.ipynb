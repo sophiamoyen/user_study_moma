{
 "cells": [
  {
   "cell_type": "markdown",
   "id": "6ff26b59",
   "metadata": {},
   "source": [
    "# UMUX Hypothesis Testing"
   ]
  },
  {
   "cell_type": "markdown",
   "id": "b81742f2",
   "metadata": {},
   "source": [
    "A Wilcoxon Signed-Rank Test was conducted to compare usability between with VR and without VR conditions. The results showed a significant decrease in UMUX scores in the WITH-VR condition (p = 0.0006), suggesting that participants perceived the VR condition as less usable compared to the non-VR setup. To evaluate whether controller type had an impact on usability, a Mann-Whitney U Test was conducted to compare SBC and WBC. The results showed no statistically significant difference (p = 0.2114), meaning that both controllers were rated similarly in terms of usability. This suggests that while VR negatively impacted usability perception, the choice of controller did not significantly influence participants’ usability ratings."
   ]
  }
 ],
 "metadata": {
  "kernelspec": {
   "display_name": "Python 3",
   "language": "python",
   "name": "python3"
  },
  "language_info": {
   "codemirror_mode": {
    "name": "ipython",
    "version": 3
   },
   "file_extension": ".py",
   "mimetype": "text/x-python",
   "name": "python",
   "nbconvert_exporter": "python",
   "pygments_lexer": "ipython3",
   "version": "3.8.10"
  }
 },
 "nbformat": 4,
 "nbformat_minor": 5
}
