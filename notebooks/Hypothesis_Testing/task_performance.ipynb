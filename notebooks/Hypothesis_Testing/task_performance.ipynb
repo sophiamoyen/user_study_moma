{
 "cells": [
  {
   "cell_type": "markdown",
   "id": "e123d1c0",
   "metadata": {},
   "source": [
    "# Task Performance Hypothesis Testing"
   ]
  },
  {
   "cell_type": "code",
   "execution_count": 1,
   "id": "2c7a34b9",
   "metadata": {},
   "outputs": [
    {
     "ename": "NameError",
     "evalue": "name 'df_rw' is not defined",
     "output_type": "error",
     "traceback": [
      "\u001b[1;31m---------------------------------------------------------------------------\u001b[0m",
      "\u001b[1;31mNameError\u001b[0m                                 Traceback (most recent call last)",
      "\u001b[1;32m<ipython-input-1-52fd6a0c774b>\u001b[0m in \u001b[0;36m<module>\u001b[1;34m\u001b[0m\n\u001b[1;32m----> 1\u001b[1;33m \u001b[0mdf_rw\u001b[0m\u001b[1;33m\u001b[0m\u001b[1;33m\u001b[0m\u001b[0m\n\u001b[0m",
      "\u001b[1;31mNameError\u001b[0m: name 'df_rw' is not defined"
     ]
    }
   ],
   "source": [
    "df_rw"
   ]
  },
  {
   "cell_type": "code",
   "execution_count": 1,
   "id": "87e76a22",
   "metadata": {},
   "outputs": [
    {
     "name": "stdout",
     "output_type": "stream",
     "text": [
      "Shapiro-Wilk Test for Normality:\n",
      "Statistic=0.5887570381164551, p-value=2.573067881327159e-35\n",
      "\n",
      "Linear Mixed-Effects Model Results:\n",
      "                                          Mixed Linear Model Regression Results\n",
      "==========================================================================================================================\n",
      "Model:                                  MixedLM                       Dependent Variable:                       Score     \n",
      "No. Observations:                       600                           Method:                                   REML      \n",
      "No. Groups:                             20                            Scale:                                    3.8530    \n",
      "Min. group size:                        30                            Log-Likelihood:                           -1243.8375\n",
      "Max. group size:                        30                            Converged:                                Yes       \n",
      "Mean group size:                        30.0                                                                              \n",
      "--------------------------------------------------------------------------------------------------------------------------\n",
      "                                                                                Coef.  Std.Err.   z    P>|z| [0.025 0.975]\n",
      "--------------------------------------------------------------------------------------------------------------------------\n",
      "Intercept                                                                        9.400    0.957  9.821 0.000  7.524 11.276\n",
      "Controller[T.WBC]                                                               -1.500    1.354 -1.108 0.268 -4.153  1.153\n",
      "Modality[T.WITH-VR]                                                             -1.200    1.341 -0.895 0.371 -3.828  1.428\n",
      "Subtask[T.Move to & pick up bottle]                                              0.300    1.341  0.224 0.823 -2.328  2.928\n",
      "Subtask[T.Open drawer]                                                           0.500    1.341  0.373 0.709 -2.128  3.128\n",
      "Subtask[T.Put bottle inside drawer]                                              0.700    1.341  0.522 0.602 -1.928  3.328\n",
      "Subtask[T.Return to base]                                                        0.800    1.341  0.597 0.551 -1.828  3.428\n",
      "Controller[T.WBC]:Modality[T.WITH-VR]                                           -0.967    1.896 -0.510 0.610 -4.683  2.750\n",
      "Controller[T.WBC]:Subtask[T.Move to & pick up bottle]                           -1.533    1.896 -0.809 0.419 -5.250  2.183\n",
      "Controller[T.WBC]:Subtask[T.Open drawer]                                        -0.800    1.896 -0.422 0.673 -4.517  2.917\n",
      "Controller[T.WBC]:Subtask[T.Put bottle inside drawer]                           -0.633    1.896 -0.334 0.738 -4.350  3.083\n",
      "Controller[T.WBC]:Subtask[T.Return to base]                                      0.900    1.896  0.475 0.635 -2.817  4.617\n",
      "Modality[T.WITH-VR]:Subtask[T.Move to & pick up bottle]                         -2.200    1.896 -1.160 0.246 -5.917  1.517\n",
      "Modality[T.WITH-VR]:Subtask[T.Open drawer]                                      -0.200    1.896 -0.105 0.916 -3.917  3.517\n",
      "Modality[T.WITH-VR]:Subtask[T.Put bottle inside drawer]                          2.167    1.896  1.143 0.253 -1.550  5.883\n",
      "Modality[T.WITH-VR]:Subtask[T.Return to base]                                    0.200    1.896  0.105 0.916 -3.517  3.917\n",
      "Controller[T.WBC]:Modality[T.WITH-VR]:Subtask[T.Move to & pick up bottle]        4.300    2.682  1.603 0.109 -0.956  9.556\n",
      "Controller[T.WBC]:Modality[T.WITH-VR]:Subtask[T.Open drawer]                     3.600    2.682  1.342 0.179 -1.656  8.856\n",
      "Controller[T.WBC]:Modality[T.WITH-VR]:Subtask[T.Put bottle inside drawer]        1.167    2.682  0.435 0.664 -4.090  6.423\n",
      "Controller[T.WBC]:Modality[T.WITH-VR]:Subtask[T.Return to base]                  0.267    2.682  0.099 0.921 -4.990  5.523\n",
      "Trial                                                                           -0.000    0.439 -0.000 1.000 -0.860  0.860\n",
      "Controller[T.WBC]:Trial                                                          0.300    0.621  0.483 0.629 -0.917  1.517\n",
      "Modality[T.WITH-VR]:Trial                                                        0.450    0.621  0.725 0.468 -0.767  1.667\n",
      "Trial:Subtask[T.Move to & pick up bottle]                                       -0.450    0.621 -0.725 0.468 -1.667  0.767\n",
      "Trial:Subtask[T.Open drawer]                                                    -0.300    0.621 -0.483 0.629 -1.517  0.917\n",
      "Trial:Subtask[T.Put bottle inside drawer]                                       -0.300    0.621 -0.483 0.629 -1.517  0.917\n",
      "Trial:Subtask[T.Return to base]                                                 -0.150    0.621 -0.242 0.809 -1.367  1.067\n",
      "Controller[T.WBC]:Modality[T.WITH-VR]:Trial                                     -0.150    0.878 -0.171 0.864 -1.871  1.571\n",
      "Controller[T.WBC]:Trial:Subtask[T.Move to & pick up bottle]                      1.100    0.878  1.253 0.210 -0.621  2.821\n",
      "Controller[T.WBC]:Trial:Subtask[T.Open drawer]                                   0.450    0.878  0.513 0.608 -1.271  2.171\n",
      "Controller[T.WBC]:Trial:Subtask[T.Put bottle inside drawer]                      0.500    0.878  0.570 0.569 -1.221  2.221\n",
      "Controller[T.WBC]:Trial:Subtask[T.Return to base]                               -0.000    0.878 -0.000 1.000 -1.721  1.721\n",
      "Modality[T.WITH-VR]:Trial:Subtask[T.Move to & pick up bottle]                    0.750    0.878  0.854 0.393 -0.971  2.471\n",
      "Modality[T.WITH-VR]:Trial:Subtask[T.Open drawer]                                 0.300    0.878  0.342 0.733 -1.421  2.021\n",
      "Modality[T.WITH-VR]:Trial:Subtask[T.Put bottle inside drawer]                   -0.950    0.878 -1.082 0.279 -2.671  0.771\n",
      "Modality[T.WITH-VR]:Trial:Subtask[T.Return to base]                             -0.150    0.878 -0.171 0.864 -1.871  1.571\n",
      "Controller[T.WBC]:Modality[T.WITH-VR]:Trial:Subtask[T.Move to & pick up bottle] -1.500    1.241 -1.208 0.227 -3.933  0.933\n",
      "Controller[T.WBC]:Modality[T.WITH-VR]:Trial:Subtask[T.Open drawer]              -1.250    1.241 -1.007 0.314 -3.683  1.183\n",
      "Controller[T.WBC]:Modality[T.WITH-VR]:Trial:Subtask[T.Put bottle inside drawer] -0.050    1.241 -0.040 0.968 -2.483  2.383\n",
      "Controller[T.WBC]:Modality[T.WITH-VR]:Trial:Subtask[T.Return to base]            0.150    1.241  0.121 0.904 -2.283  2.583\n",
      "Group Var                                                                        0.170    0.051                           \n",
      "==========================================================================================================================\n",
      "\n"
     ]
    }
   ],
   "source": [
    "# Load necessary libraries\n",
    "import pandas as pd\n",
    "import statsmodels.formula.api as smf\n",
    "from scipy.stats import shapiro\n",
    "\n",
    "# Load the dataset\n",
    "file_path = \"task_performance.csv\"  # Replace with actual file path\n",
    "df_task_performance = pd.read_csv(file_path)\n",
    "\n",
    "# Filter only real-world (RW) trials\n",
    "df_rw = df_task_performance.filter(regex=\"^PERSONAL|^RW\")\n",
    "\n",
    "# Melt the dataset to long format\n",
    "df_long = df_rw.melt(id_vars=[\"PERSONAL_Controller being tested?\", \"PERSONAL_participant_code\"], \n",
    "                      var_name=\"Task\", value_name=\"Score\")\n",
    "\n",
    "# Extract Modality, Trial Number, and Subtask from column names\n",
    "df_long[\"Modality\"] = df_long[\"Task\"].apply(lambda x: \"WITH-VR\" if \"WITH-VR\" in x else \"NO-VR\")\n",
    "df_long[\"Trial\"] = df_long[\"Task\"].str.extract(r\"TASK (\\d)\").astype(int)\n",
    "df_long[\"Subtask\"] = df_long[\"Task\"].str.extract(r\"\\[([^\\]]+)\\]\")  # Extract subtask names\n",
    "\n",
    "# Rename columns for clarity\n",
    "df_long.rename(columns={\"PERSONAL_Controller being tested?\": \"Controller\",\n",
    "                        \"PERSONAL_participant_code\": \"Participant\"}, inplace=True)\n",
    "\n",
    "# Drop the original \"Task\" column as it has been split into meaningful components\n",
    "df_long.drop(columns=[\"Task\"], inplace=True)\n",
    "\n",
    "# Check normality using Shapiro-Wilk test\n",
    "shapiro_test = shapiro(df_long[\"Score\"])\n",
    "\n",
    "# Fit the Linear Mixed-Effects Model (LMM)\n",
    "lmm_model_performance = smf.mixedlm(\n",
    "    \"Score ~ Controller * Modality * Trial * Subtask\", \n",
    "    df_long, \n",
    "    groups=df_long[\"Participant\"]\n",
    ")\n",
    "\n",
    "# Fit the model\n",
    "lmm_result_performance = lmm_model_performance.fit()\n",
    "\n",
    "# Display results\n",
    "print(\"Shapiro-Wilk Test for Normality:\")\n",
    "print(f\"Statistic={shapiro_test.statistic}, p-value={shapiro_test.pvalue}\\n\")\n",
    "\n",
    "print(\"Linear Mixed-Effects Model Results:\")\n",
    "print(lmm_result_performance.summary())\n"
   ]
  },
  {
   "cell_type": "markdown",
   "id": "2ed810d3",
   "metadata": {},
   "source": [
    "To analyze task performance across tasks and trials, a LMM was applied to account for repeated measures while considering Controller, Modality, Trial Number, and Task as fixed effects. LMM allows for a robust analysis of within-subject variability while handling potential missing values without the need for pairwise deletion. A Shapiro-Wilk test confirmed that task scores were not normally distributed (p < 0.05), supporting the use of LMM over traditional parametric methods such as ANOVA.\n",
    "\n",
    "The model revealed that baseline performance was high, with an average task score of 9.40/10 (p < 0.0001). The controller type did not significantly influence task performance, as WBC had a slightly lower average score (-1.50 points, p = 0.268), but this difference was not statistically significant. Similarly, the visualization modality did not have a strong impact, with WITH-VR resulting in a small performance decrease (-1.20 points, p = 0.371), but again, this was not significant. Performance remained stable across trials, with no notable learning or fatigue effects (p = 1.000), and there was no significant variation across different tasks, meaning no single task was consistently harder or easier than the others. Additionally, no significant interaction effects between Controller, Modality, Trial, and Task were observed (p > 0.05), suggesting that task performance differences were stable across all conditions and trials.\n",
    "\n",
    "These results suggest that task performance was consistent across different controllers, modalities, and trials, with no strong evidence that WITH-VR or WBC hindered performance. Participants consistently scored above 9 on average, demonstrating a high level of task execution accuracy across all conditions. Unlike the completion time analysis, where WITH-VR significantly increased task duration, here we see that performance scores remained unaffected by visualization modality, implying that while VR may slow down execution, it does not necessarily lead to task failure or lower performance quality. Similarly, controller type did not significantly impact task scores, meaning both SBC and WBC were equally effective in executing tasks."
   ]
  },
  {
   "cell_type": "code",
   "execution_count": null,
   "id": "99374645",
   "metadata": {},
   "outputs": [],
   "source": []
  }
 ],
 "metadata": {
  "kernelspec": {
   "display_name": "Python 3",
   "language": "python",
   "name": "python3"
  },
  "language_info": {
   "codemirror_mode": {
    "name": "ipython",
    "version": 3
   },
   "file_extension": ".py",
   "mimetype": "text/x-python",
   "name": "python",
   "nbconvert_exporter": "python",
   "pygments_lexer": "ipython3",
   "version": "3.8.10"
  }
 },
 "nbformat": 4,
 "nbformat_minor": 5
}
