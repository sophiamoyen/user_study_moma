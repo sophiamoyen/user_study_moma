{
 "cells": [
  {
   "cell_type": "markdown",
   "id": "7751f3b1",
   "metadata": {},
   "source": [
    "# NASA TLX Hypothesis Testing"
   ]
  },
  {
   "cell_type": "code",
   "execution_count": 8,
   "id": "362da89c",
   "metadata": {},
   "outputs": [
    {
     "name": "stdout",
     "output_type": "stream",
     "text": [
      "Wilcoxon Signed-Rank Test Results (WITH-VR vs. NO-VR):\n",
      "Mental Demand: Statistic=18.5, p-value=0.001983812456991301\n",
      "Physical Demand: Statistic=13.5, p-value=0.0024687152258023645\n",
      "Temporal Demand: Statistic=53.5, p-value=0.058258056640625\n",
      "Performance: Statistic=11.5, p-value=0.0019433669168753918\n",
      "Effort: Statistic=1.5, p-value=0.0003717844394774219\n",
      "Frustration: Statistic=30.5, p-value=0.016428489183327274\n",
      "\n",
      "Mann-Whitney U Test Results (SBC vs. WBC):\n",
      "Mental Demand: Statistic=195.5, p-value=0.9133823160315043\n",
      "Physical Demand: Statistic=286.0, p-value=0.020170689721619887\n",
      "Temporal Demand: Statistic=188.0, p-value=0.7546709930608135\n",
      "Performance: Statistic=194.5, p-value=0.8912931703788556\n",
      "Effort: Statistic=183.5, p-value=0.6632400571708958\n",
      "Frustration: Statistic=104.0, p-value=0.009247469336982264\n"
     ]
    },
    {
     "name": "stderr",
     "output_type": "stream",
     "text": [
      "C:\\Users\\sophi\\AppData\\Local\\Packages\\PythonSoftwareFoundation.Python.3.8_qbz5n2kfra8p0\\LocalCache\\local-packages\\Python38\\site-packages\\scipy\\stats\\morestats.py:3141: UserWarning: Exact p-value calculation does not work if there are ties. Switching to normal approximation.\n",
      "  warnings.warn(\"Exact p-value calculation does not work if there are \"\n"
     ]
    }
   ],
   "source": [
    "# Load necessary libraries\n",
    "import pandas as pd\n",
    "from scipy.stats import wilcoxon, mannwhitneyu\n",
    "\n",
    "# Load the dataset\n",
    "file_path = \"NASA_TLX.csv\"  # Replace with actual file path\n",
    "df_nasa_tlx = pd.read_csv(file_path)\n",
    "\n",
    "# Ensure correct data types\n",
    "df_nasa_tlx[\"Modality\"] = df_nasa_tlx[\"Modality\"].astype(str)\n",
    "df_nasa_tlx[\"Controller\"] = df_nasa_tlx[\"Controller\"].astype(str)\n",
    "\n",
    "# Merge WITH-VR and NO-VR scores by Participant ID to ensure correct pairing\n",
    "df_with_vr = df_nasa_tlx[df_nasa_tlx[\"Modality\"] == \"with VR\"].set_index([\"ID\", \"Controller\", \"Starting Modality\"])\n",
    "df_no_vr = df_nasa_tlx[df_nasa_tlx[\"Modality\"] == \"without VR\"].set_index([\"ID\", \"Controller\", \"Starting Modality\"])\n",
    "\n",
    "# Ensure both dataframes are in the same order before merging\n",
    "df_paired = df_with_vr.join(df_no_vr, lsuffix=\"_WITH_VR\", rsuffix=\"_NO_VR\")\n",
    "\n",
    "# Perform Wilcoxon Signed-Rank Test (WITH-VR vs. NO-VR)\n",
    "wilcoxon_results = {}\n",
    "for col in [\"Mental Demand\", \"Physical Demand\", \"Temporal Demand\", \"Performance\", \"Effort\", \"Frustration\"]:\n",
    "    with_vr = df_paired[f\"{col}_WITH_VR\"].values\n",
    "    no_vr = df_paired[f\"{col}_NO_VR\"].values\n",
    "\n",
    "    # Perform Wilcoxon test\n",
    "    wilcoxon_results[col] = wilcoxon(with_vr, no_vr)\n",
    "\n",
    "# Perform Mann-Whitney U Test (SBC vs. WBC)\n",
    "mannwhitney_results = {}\n",
    "for col in [\"Mental Demand\", \"Physical Demand\", \"Temporal Demand\", \"Performance\", \"Effort\", \"Frustration\"]:\n",
    "    sbc = df_nasa_tlx[df_nasa_tlx[\"Controller\"] == \"SBC\"][col]\n",
    "    wbc = df_nasa_tlx[df_nasa_tlx[\"Controller\"] == \"WBC\"][col]\n",
    "\n",
    "    # Perform Mann-Whitney U test\n",
    "    mannwhitney_results[col] = mannwhitneyu(sbc, wbc)\n",
    "\n",
    "# Display test results\n",
    "print(\"Wilcoxon Signed-Rank Test Results (WITH-VR vs. NO-VR):\")\n",
    "for key, value in wilcoxon_results.items():\n",
    "    print(f\"{key}: Statistic={value.statistic}, p-value={value.pvalue}\")\n",
    "\n",
    "print(\"\\nMann-Whitney U Test Results (SBC vs. WBC):\")\n",
    "for key, value in mannwhitney_results.items():\n",
    "    print(f\"{key}: Statistic={value.statistic}, p-value={value.pvalue}\")\n"
   ]
  },
  {
   "cell_type": "markdown",
   "id": "acb6a289",
   "metadata": {},
   "source": [
    "\n",
    "\n",
    "Statistical Approach and Justification\n",
    "\n",
    "The hypothesis testing was done using the Wilcoxon Signed-Rank Test for within-subject comparisons and the Mann-Whitney U Test for between-subject comparisons. These non-parametric methods were chosen over two-way ANOVA due to violations of normality assumptions. A Shapiro-Wilk test indicated non-normality in several NASA TLX subscales (p < 0.05). Since ANOVA relies on normality and sphericity assumptions, non-parametric tests provided a more robust alternative. The Wilcoxon Signed-Rank Test was used for WITH-VR vs. NO-VR, as participants experienced both conditions, making the data paired. The Mann-Whitney U Test was applied for SBC vs. WBC controllers, as participants used only one controller, making the groups independent.\n",
    "\n",
    "Results from the NASA TLX Analysis\n",
    "\n",
    "The Wilcoxon Signed-Rank Test showed that WITH-VR significantly increased Mental Demand (p = 0.002), Physical Demand (p = 0.002), Performance decline (p = 0.002), Effort (p < 0.001), and Frustration (p = 0.016). Temporal Demand (p = 0.058) was marginally significant. These results indicate that WITH-VR led to a higher perceived workload, requiring more cognitive and physical effort while reducing performance. The Mann-Whitney U Test found that controller type did not significantly impact most workload dimensions, except Physical Demand (p = 0.020) and Frustration (p = 0.009). Further analysis revealed that SBC was rated as more physically demanding (Mean Physical Demand: 43.75 vs. 29.25 for WBC), while WBC was rated as more frustrating (Mean Frustration: 41.75 vs. 23.25 for SBC). This suggests that while controller choice had minimal influence on other workload dimensions, SBC induced more physical strain, whereas WBC led to higher frustration levels.\n",
    "\n",
    "Interpretation and Conclusions\n",
    "\n",
    "Visualization modality had the strongest impact on workload perception, with WITH-VR being more demanding and frustrating than NO-VR. This suggests that VR tasks require greater cognitive and physical effort. The controller effect was less evident, affecting only Physical Demand and Frustration, hinting at usability differences between controllers."
   ]
  }
 ],
 "metadata": {
  "kernelspec": {
   "display_name": "Python 3",
   "language": "python",
   "name": "python3"
  },
  "language_info": {
   "codemirror_mode": {
    "name": "ipython",
    "version": 3
   },
   "file_extension": ".py",
   "mimetype": "text/x-python",
   "name": "python",
   "nbconvert_exporter": "python",
   "pygments_lexer": "ipython3",
   "version": "3.8.10"
  }
 },
 "nbformat": 4,
 "nbformat_minor": 5
}
