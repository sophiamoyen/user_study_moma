{
 "cells": [
  {
   "cell_type": "markdown",
   "id": "8347d817",
   "metadata": {},
   "source": [
    "# RULA HP"
   ]
  },
  {
   "cell_type": "code",
   "execution_count": 1,
   "id": "146dcb1e",
   "metadata": {},
   "outputs": [
    {
     "name": "stdout",
     "output_type": "stream",
     "text": [
      "                              Mixed Linear Model Regression Results\n",
      "=================================================================================================\n",
      "Model:                         MixedLM            Dependent Variable:            Final_RULA_Score\n",
      "No. Observations:              105                Method:                        REML            \n",
      "No. Groups:                    19                 Scale:                         0.0338          \n",
      "Min. group size:               4                  Log-Likelihood:                -2.9936         \n",
      "Max. group size:               6                  Converged:                     Yes             \n",
      "Mean group size:               5.5                                                               \n",
      "-------------------------------------------------------------------------------------------------\n",
      "                                                       Coef.  Std.Err.   z    P>|z| [0.025 0.975]\n",
      "-------------------------------------------------------------------------------------------------\n",
      "Intercept                                               4.104    0.112 36.787 0.000  3.885  4.322\n",
      "Study_Type[T.WBC]                                      -0.088    0.168 -0.525 0.599 -0.417  0.241\n",
      "VR_Type[T.WITH-VR]                                      0.131    0.156  0.837 0.403 -0.176  0.437\n",
      "Trial_Number[T.2]                                      -0.092    0.088 -1.053 0.292 -0.264  0.079\n",
      "Trial_Number[T.3]                                       0.014    0.088  0.165 0.869 -0.157  0.186\n",
      "Study_Type[T.WBC]:VR_Type[T.WITH-VR]                   -0.062    0.228 -0.272 0.786 -0.510  0.386\n",
      "Study_Type[T.WBC]:Trial_Number[T.2]                     0.085    0.130  0.658 0.511 -0.169  0.340\n",
      "Study_Type[T.WBC]:Trial_Number[T.3]                    -0.047    0.132 -0.355 0.723 -0.305  0.211\n",
      "VR_Type[T.WITH-VR]:Trial_Number[T.2]                    0.102    0.122  0.833 0.405 -0.137  0.341\n",
      "VR_Type[T.WITH-VR]:Trial_Number[T.3]                   -0.115    0.122 -0.941 0.347 -0.354  0.124\n",
      "Study_Type[T.WBC]:VR_Type[T.WITH-VR]:Trial_Number[T.2] -0.031    0.177 -0.176 0.860 -0.378  0.315\n",
      "Study_Type[T.WBC]:VR_Type[T.WITH-VR]:Trial_Number[T.3]  0.291    0.178  1.631 0.103 -0.059  0.640\n",
      "Group Var                                               0.043    0.106                           \n",
      "=================================================================================================\n",
      "\n"
     ]
    }
   ],
   "source": [
    "# Load necessary libraries\n",
    "import pandas as pd\n",
    "import statsmodels.formula.api as smf\n",
    "\n",
    "# Load the dataset\n",
    "file_path = \"rula.csv\"  # Replace with actual file path\n",
    "df_rula = pd.read_csv(file_path)\n",
    "\n",
    "# Ensure correct data types\n",
    "df_rula[\"VR_Type\"] = df_rula[\"VR_Type\"].astype(\"category\")  # Modality (WITH-VR / NO-VR)\n",
    "df_rula[\"Study_Type\"] = df_rula[\"Study_Type\"].astype(\"category\")  # Controller (SBC / WBC)\n",
    "df_rula[\"User_ID\"] = df_rula[\"User_ID\"].astype(\"category\")  # Participant ID\n",
    "df_rula[\"Trial_Number\"] = df_rula[\"Trial_Number\"].astype(\"category\")  # Trial Number\n",
    "\n",
    "# Fit the Linear Mixed-Effects Model (LMM)\n",
    "lmm_model_rula = smf.mixedlm(\n",
    "    \"Final_RULA_Score ~ Study_Type * VR_Type * Trial_Number\", \n",
    "    df_rula, \n",
    "    groups=df_rula[\"User_ID\"],  # Random intercept per participant\n",
    "    re_formula=\"1\"\n",
    ")\n",
    "\n",
    "# Fit the model\n",
    "lmm_result_rula = lmm_model_rula.fit()\n",
    "\n",
    "# Display LMM summary\n",
    "print(lmm_result_rula.summary())\n"
   ]
  },
  {
   "cell_type": "markdown",
   "id": "ca77867d",
   "metadata": {},
   "source": [
    "To analyze ergonomic risk, we conducted hypothesis testing on the Final RULA Score, which measures postural risk based on body posture, force, and movement patterns. The study followed a 2 × 2 × 3 mixed-design, where Modality (WITH-VR vs. without VR) was within-subjects, Controller (SBC vs. WBC) was between-subjects, and Trial Number (1, 2, 3) was also within-subjects. Given the repeated measures and mixed-design structure, we applied a Linear Mixed-Effects Model (LMM) to account for participant variability, examine main effects, and test interactions.\n",
    "\n",
    "The results showed no significant effect of Controller (p = 0.599) or Modality (p = 0.403) on Final RULA Scores. This suggests that ergonomic risk did not vary significantly between SBC and WBC, nor between VR and Non-VR conditions. Similarly, there was no significant effect of Trial Number (p > 0.290), indicating that participants did not experience substantial ergonomic improvements or declines over repeated trials. Interaction effects were also non-significant (p > 0.100), with only a borderline trend in Trial 3 (p = 0.103), suggesting a possible late-stage effect that was not strong enough to be conclusive.\n",
    "\n",
    "In conclusion, controller type and VR modality did not significantly impact ergonomic risk based on the RULA assessment. Additionally, repeated exposure to the task did not lead to notable ergonomic improvements or degradations. Future research could explore individual factors such as user experience, fatigue, and specific movement constraints to further investigate potential long-term ergonomic effects."
   ]
  },
  {
   "cell_type": "code",
   "execution_count": null,
   "id": "57d3c594",
   "metadata": {},
   "outputs": [],
   "source": []
  }
 ],
 "metadata": {
  "kernelspec": {
   "display_name": "Python 3",
   "language": "python",
   "name": "python3"
  },
  "language_info": {
   "codemirror_mode": {
    "name": "ipython",
    "version": 3
   },
   "file_extension": ".py",
   "mimetype": "text/x-python",
   "name": "python",
   "nbconvert_exporter": "python",
   "pygments_lexer": "ipython3",
   "version": "3.8.10"
  }
 },
 "nbformat": 4,
 "nbformat_minor": 5
}
